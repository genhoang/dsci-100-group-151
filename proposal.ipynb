{
 "cells": [
  {
   "cell_type": "code",
   "execution_count": 28,
   "id": "b1d0108d",
   "metadata": {},
   "outputs": [],
   "source": [
    "library(tidyverse)\n",
    "library(repr)\n",
    "library(tidymodels)"
   ]
  },
  {
   "cell_type": "markdown",
   "id": "88f91ec4",
   "metadata": {
    "tags": []
   },
   "source": [
    "Proposal for Data Science 100 Group Project\n",
    "\n",
    "\n",
    "Accumulation of knowledge is an important part of education. However, one might wonder what would be the best way to gain knowledge? And what may affect one's knowledge level on a particular subject?\n",
    "\n",
    "Our question is:\n",
    "How can we classify the knowledge level of a student with their study time, degree of repetition, and exam performace? Is there a more accurate way to classify the knowledge level with other parameters?\n",
    "\n",
    "For our project, we will be using the User Knowledge Modeling Data Set, retrieved from https://archive.ics.uci.edu/ml/datasets/User+Knowledge+Modeling#. \n",
    "\n",
    "This data set contains data about the knowledge level of students on the subject of electrical DC machines, along with information about each students' study time, degree of repetition on the subject, study time on subjects related to this subject, the exam performance for subjects related to this subject, and exam performace for this subject. \n",
    "\n",
    "The data can be downloaded from going to the website and clicking \"Data Folder\". The data was downloaded, transformed into a csv file, and uploaded into the data folder for this project."
   ]
  },
  {
   "cell_type": "markdown",
   "id": "9d16cdff",
   "metadata": {},
   "source": [
    "## Preliminary Exploratory Data Analysis:\n",
    "\n",
    "### Reading in file from the web into R\n",
    "\n",
    "First, one should obtain the xlsl file from https://archive.ics.uci.edu/ml/datasets/User+Knowledge+Modeling, in the Data Folder. In this excel file, there are multiple sheets. Therefore, to make it easier to read, one should convert each sheet to a different csv file with https://cloudconvert.com/xlsx-to-csv. For this project, the training and testing sheets in the excel file were converted into data/training_data_user_knowledge.csv and data/training_data_user_knowledge.csv respectively. \n",
    "\n",
    "Next, the data can be read into a tibble with read_csv. As there are no meta text, no extra parameters need to be added. For instance, to read in the training data:"
   ]
  },
  {
   "cell_type": "code",
   "execution_count": 29,
   "id": "4c4e2dbf",
   "metadata": {},
   "outputs": [
    {
     "name": "stderr",
     "output_type": "stream",
     "text": [
      "\u001b[1mRows: \u001b[22m\u001b[34m258\u001b[39m \u001b[1mColumns: \u001b[22m\u001b[34m6\u001b[39m\n",
      "\u001b[36m──\u001b[39m \u001b[1mColumn specification\u001b[22m \u001b[36m────────────────────────────────────────────────────────\u001b[39m\n",
      "\u001b[1mDelimiter:\u001b[22m \",\"\n",
      "\u001b[31mchr\u001b[39m (1): UNS\n",
      "\u001b[32mdbl\u001b[39m (5): STG, SCG, STR, LPR, PEG\n",
      "\n",
      "\u001b[36mℹ\u001b[39m Use `spec()` to retrieve the full column specification for this data.\n",
      "\u001b[36mℹ\u001b[39m Specify the column types or set `show_col_types = FALSE` to quiet this message.\n"
     ]
    }
   ],
   "source": [
    "#reading the training data into testing_data object:\n",
    "training_data <- read_csv(\"data/training_data_user_knowledge.csv\")"
   ]
  },
  {
   "cell_type": "markdown",
   "id": "b358ed32",
   "metadata": {},
   "source": [
    "## Cleaning and wrangling into tidy format\n",
    "\n",
    "Here is what the first 5 rows of our data look like:"
   ]
  },
  {
   "cell_type": "code",
   "execution_count": 30,
   "id": "e3d6fdc3",
   "metadata": {},
   "outputs": [
    {
     "data": {
      "text/html": [
       "<table class=\"dataframe\">\n",
       "<caption>A spec_tbl_df: 5 × 6</caption>\n",
       "<thead>\n",
       "\t<tr><th scope=col>STG</th><th scope=col>SCG</th><th scope=col>STR</th><th scope=col>LPR</th><th scope=col>PEG</th><th scope=col>UNS</th></tr>\n",
       "\t<tr><th scope=col>&lt;dbl&gt;</th><th scope=col>&lt;dbl&gt;</th><th scope=col>&lt;dbl&gt;</th><th scope=col>&lt;dbl&gt;</th><th scope=col>&lt;dbl&gt;</th><th scope=col>&lt;chr&gt;</th></tr>\n",
       "</thead>\n",
       "<tbody>\n",
       "\t<tr><td>0.00</td><td>0.00</td><td>0.00</td><td>0.00</td><td>0.00</td><td>very_low</td></tr>\n",
       "\t<tr><td>0.08</td><td>0.08</td><td>0.10</td><td>0.24</td><td>0.90</td><td>High    </td></tr>\n",
       "\t<tr><td>0.06</td><td>0.06</td><td>0.05</td><td>0.25</td><td>0.33</td><td>Low     </td></tr>\n",
       "\t<tr><td>0.10</td><td>0.10</td><td>0.15</td><td>0.65</td><td>0.30</td><td>Middle  </td></tr>\n",
       "\t<tr><td>0.08</td><td>0.08</td><td>0.08</td><td>0.98</td><td>0.24</td><td>Low     </td></tr>\n",
       "</tbody>\n",
       "</table>\n"
      ],
      "text/latex": [
       "A spec\\_tbl\\_df: 5 × 6\n",
       "\\begin{tabular}{llllll}\n",
       " STG & SCG & STR & LPR & PEG & UNS\\\\\n",
       " <dbl> & <dbl> & <dbl> & <dbl> & <dbl> & <chr>\\\\\n",
       "\\hline\n",
       "\t 0.00 & 0.00 & 0.00 & 0.00 & 0.00 & very\\_low\\\\\n",
       "\t 0.08 & 0.08 & 0.10 & 0.24 & 0.90 & High    \\\\\n",
       "\t 0.06 & 0.06 & 0.05 & 0.25 & 0.33 & Low     \\\\\n",
       "\t 0.10 & 0.10 & 0.15 & 0.65 & 0.30 & Middle  \\\\\n",
       "\t 0.08 & 0.08 & 0.08 & 0.98 & 0.24 & Low     \\\\\n",
       "\\end{tabular}\n"
      ],
      "text/markdown": [
       "\n",
       "A spec_tbl_df: 5 × 6\n",
       "\n",
       "| STG &lt;dbl&gt; | SCG &lt;dbl&gt; | STR &lt;dbl&gt; | LPR &lt;dbl&gt; | PEG &lt;dbl&gt; | UNS &lt;chr&gt; |\n",
       "|---|---|---|---|---|---|\n",
       "| 0.00 | 0.00 | 0.00 | 0.00 | 0.00 | very_low |\n",
       "| 0.08 | 0.08 | 0.10 | 0.24 | 0.90 | High     |\n",
       "| 0.06 | 0.06 | 0.05 | 0.25 | 0.33 | Low      |\n",
       "| 0.10 | 0.10 | 0.15 | 0.65 | 0.30 | Middle   |\n",
       "| 0.08 | 0.08 | 0.08 | 0.98 | 0.24 | Low      |\n",
       "\n"
      ],
      "text/plain": [
       "  STG  SCG  STR  LPR  PEG  UNS     \n",
       "1 0.00 0.00 0.00 0.00 0.00 very_low\n",
       "2 0.08 0.08 0.10 0.24 0.90 High    \n",
       "3 0.06 0.06 0.05 0.25 0.33 Low     \n",
       "4 0.10 0.10 0.15 0.65 0.30 Middle  \n",
       "5 0.08 0.08 0.08 0.98 0.24 Low     "
      ]
     },
     "metadata": {},
     "output_type": "display_data"
    }
   ],
   "source": [
    "slice(training_data, 1:5)"
   ]
  },
  {
   "cell_type": "markdown",
   "id": "d1a82903",
   "metadata": {},
   "source": [
    "From the source website, here is what the column labels mean: \n",
    "\n",
    "For each student,\n",
    "STG: The degree of study time for subject\n",
    "SCG: The degree of repetition for subject materials\n",
    "STR: The degree of study time for related subjects\n",
    "LPR: The exam performance for related subjects\n",
    "PEG: The exam performance for subject\n",
    "UNS: The knowledge level\n",
    "\n",
    "Lets rename the columns to have better understanding:"
   ]
  },
  {
   "cell_type": "code",
   "execution_count": 31,
   "id": "c88362e2",
   "metadata": {},
   "outputs": [
    {
     "data": {
      "text/html": [
       "<table class=\"dataframe\">\n",
       "<caption>A spec_tbl_df: 5 × 6</caption>\n",
       "<thead>\n",
       "\t<tr><th scope=col>direct_study_time</th><th scope=col>direct_repetition_degree</th><th scope=col>related_study_time</th><th scope=col>related_exam_performance</th><th scope=col>direct_exam_performance</th><th scope=col>direct_knowledge_level</th></tr>\n",
       "\t<tr><th scope=col>&lt;dbl&gt;</th><th scope=col>&lt;dbl&gt;</th><th scope=col>&lt;dbl&gt;</th><th scope=col>&lt;dbl&gt;</th><th scope=col>&lt;dbl&gt;</th><th scope=col>&lt;chr&gt;</th></tr>\n",
       "</thead>\n",
       "<tbody>\n",
       "\t<tr><td>0.00</td><td>0.00</td><td>0.00</td><td>0.00</td><td>0.00</td><td>very_low</td></tr>\n",
       "\t<tr><td>0.08</td><td>0.08</td><td>0.10</td><td>0.24</td><td>0.90</td><td>High    </td></tr>\n",
       "\t<tr><td>0.06</td><td>0.06</td><td>0.05</td><td>0.25</td><td>0.33</td><td>Low     </td></tr>\n",
       "\t<tr><td>0.10</td><td>0.10</td><td>0.15</td><td>0.65</td><td>0.30</td><td>Middle  </td></tr>\n",
       "\t<tr><td>0.08</td><td>0.08</td><td>0.08</td><td>0.98</td><td>0.24</td><td>Low     </td></tr>\n",
       "</tbody>\n",
       "</table>\n"
      ],
      "text/latex": [
       "A spec\\_tbl\\_df: 5 × 6\n",
       "\\begin{tabular}{llllll}\n",
       " direct\\_study\\_time & direct\\_repetition\\_degree & related\\_study\\_time & related\\_exam\\_performance & direct\\_exam\\_performance & direct\\_knowledge\\_level\\\\\n",
       " <dbl> & <dbl> & <dbl> & <dbl> & <dbl> & <chr>\\\\\n",
       "\\hline\n",
       "\t 0.00 & 0.00 & 0.00 & 0.00 & 0.00 & very\\_low\\\\\n",
       "\t 0.08 & 0.08 & 0.10 & 0.24 & 0.90 & High    \\\\\n",
       "\t 0.06 & 0.06 & 0.05 & 0.25 & 0.33 & Low     \\\\\n",
       "\t 0.10 & 0.10 & 0.15 & 0.65 & 0.30 & Middle  \\\\\n",
       "\t 0.08 & 0.08 & 0.08 & 0.98 & 0.24 & Low     \\\\\n",
       "\\end{tabular}\n"
      ],
      "text/markdown": [
       "\n",
       "A spec_tbl_df: 5 × 6\n",
       "\n",
       "| direct_study_time &lt;dbl&gt; | direct_repetition_degree &lt;dbl&gt; | related_study_time &lt;dbl&gt; | related_exam_performance &lt;dbl&gt; | direct_exam_performance &lt;dbl&gt; | direct_knowledge_level &lt;chr&gt; |\n",
       "|---|---|---|---|---|---|\n",
       "| 0.00 | 0.00 | 0.00 | 0.00 | 0.00 | very_low |\n",
       "| 0.08 | 0.08 | 0.10 | 0.24 | 0.90 | High     |\n",
       "| 0.06 | 0.06 | 0.05 | 0.25 | 0.33 | Low      |\n",
       "| 0.10 | 0.10 | 0.15 | 0.65 | 0.30 | Middle   |\n",
       "| 0.08 | 0.08 | 0.08 | 0.98 | 0.24 | Low      |\n",
       "\n"
      ],
      "text/plain": [
       "  direct_study_time direct_repetition_degree related_study_time\n",
       "1 0.00              0.00                     0.00              \n",
       "2 0.08              0.08                     0.10              \n",
       "3 0.06              0.06                     0.05              \n",
       "4 0.10              0.10                     0.15              \n",
       "5 0.08              0.08                     0.08              \n",
       "  related_exam_performance direct_exam_performance direct_knowledge_level\n",
       "1 0.00                     0.00                    very_low              \n",
       "2 0.24                     0.90                    High                  \n",
       "3 0.25                     0.33                    Low                   \n",
       "4 0.65                     0.30                    Middle                \n",
       "5 0.98                     0.24                    Low                   "
      ]
     },
     "metadata": {},
     "output_type": "display_data"
    }
   ],
   "source": [
    "training_data <- rename(training_data, \n",
    "                        direct_study_time = STG,\n",
    "                        direct_repetition_degree = SCG,\n",
    "                        related_study_time = STR,\n",
    "                        related_exam_performance = LPR,\n",
    "                        direct_exam_performance = PEG,\n",
    "                        direct_knowledge_level = UNS)\n",
    "\n",
    "slice(training_data, 1:5)"
   ]
  },
  {
   "cell_type": "markdown",
   "id": "342e8acf",
   "metadata": {},
   "source": [
    "As we can see from our new table above, each row is a single observation, each column is a single variable, and each value is a single cell. Therefore, our data is tidy. Furthermore, our columns are more understandable and clear."
   ]
  },
  {
   "cell_type": "markdown",
   "id": "219ac217",
   "metadata": {},
   "source": [
    "## Exploratory tables\n",
    "### Minimum and Maximum of each column\n",
    "\n",
    "For our numerical data, (labelled by <dbl>), we can find the range of values with the map + max and min functions:"
   ]
  },
  {
   "cell_type": "code",
   "execution_count": null,
   "id": "3d83b6c5",
   "metadata": {},
   "outputs": [],
   "source": [
    "max_and_min <- map(training_data,\n",
    "          min_most_at_home = min(most_at_home),\n",
    "          max_most_at_home = max(most_at_home))"
   ]
  },
  {
   "cell_type": "code",
   "execution_count": 1,
   "id": "49e7d38c",
   "metadata": {},
   "outputs": [
    {
     "ename": "ERROR",
     "evalue": "Error in ggplot(training_data, aes(x = STG, y = PEG)): could not find function \"ggplot\"\n",
     "output_type": "error",
     "traceback": [
      "Error in ggplot(training_data, aes(x = STG, y = PEG)): could not find function \"ggplot\"\nTraceback:\n"
     ]
    }
   ],
   "source": [
    "\n",
    "\n",
    "#showing relation between study time and exam results on subject\n",
    "ggplot(training_data, aes(x = STG, y = PEG)) +\n",
    "geom_point() "
   ]
  },
  {
   "cell_type": "markdown",
   "id": "9a4f9663",
   "metadata": {},
   "source": [
    "## Preliminary exploratory data analysis & Methods\n",
    "For our data analysis, we will use the closest k points method with the columns PEG and STG to classify knowledge levels. We will try to find the best value for k, and see how accurate our model is when tested. One way we will visualize the result is by showing a graph of accuracy against k. This will show clearly the best value for k.\n",
    "\n",
    "## Expected outcomes and significance\n",
    "We expect to find higher levels of study time and exam results to higher levels of knowledge. We also do not expect the classification to be very accurate, because the measurement method seems unreliable.\n",
    "\n",
    "Our finding may show that common beliefs about how study time reflects knowledge may not be statistically correct. Furthermore, it may even show that exams do not test knowledge well. Or, it may confirm these beliefs.\n",
    "\n",
    "A future question could be to ask: what other variables may affect user knoweldge?"
   ]
  },
  {
   "cell_type": "markdown",
   "id": "e5ec0e48",
   "metadata": {},
   "source": [
    "notes (ignore):\n",
    "STG (The degree of study time for goal object materails), (input value)\n",
    "SCG (The degree of repetition number of user for goal object materails) (input value)\n",
    "STR (The degree of study time of user for related objects with goal object) (input value)\n",
    "LPR (The exam performance of user for related objects with goal object) (input value)\n",
    "PEG (The exam performance of user for goal objects) (input value)\n",
    "UNS (The knowledge level of user) (target value)\n",
    "Very Low: 50\n",
    "Low:129\n",
    "Middle: 122\n",
    "High 130"
   ]
  }
 ],
 "metadata": {
  "kernelspec": {
   "display_name": "R",
   "language": "R",
   "name": "ir"
  },
  "language_info": {
   "codemirror_mode": "r",
   "file_extension": ".r",
   "mimetype": "text/x-r-source",
   "name": "R",
   "pygments_lexer": "r",
   "version": "4.1.3"
  }
 },
 "nbformat": 4,
 "nbformat_minor": 5
}
