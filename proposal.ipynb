{
 "cells": [
  {
   "cell_type": "code",
   "execution_count": 28,
   "id": "eff0c5a0-6169-43ef-94e0-c301b65ea713",
   "metadata": {},
   "outputs": [],
   "source": [
    "library(tidyverse)\n",
    "library(repr)\n",
    "library(tidymodels)"
   ]
  },
  {
   "cell_type": "markdown",
   "id": "8a9b9114-9c10-480f-a317-d27a3d908abd",
   "metadata": {},
   "source": [
    "Proposal for Data Science 100 Group Project\n",
    "\n",
    "Introduction:\n",
    "\n",
    "\n",
    "Accumulation of knowledge is an important part of education. However, one might wonder what would be the best way to gain knowledge? And what may affect one's knowledge level on a particular subject?\n",
    "\n",
    "Our question is:\n",
    "How can we classify the knowledge level of a student with their study time, degree of repetition, and exam performace?\n",
    "\n",
    "\n",
    "\n",
    "\n",
    "Is there a more accurate way to classify the knowledge level with other parameters?\n",
    "\n",
    "For our project, we will be using the User Knowledge Modeling Data Set, retrieved from https://archive.ics.uci.edu/ml/datasets/User+Knowledge+Modeling#. \n",
    "\n",
    "This data set contains data about the knowledge level of students on the subject of electrical DC machines, along with information about each students' study time, degree of repetition on the subject, study time on subjects related to this subject, the exam performance for subjects related to this subject, and exam performace for this subject. \n",
    "\n",
    "The data can be downloaded from going to the website and clicking \"Data Folder\". The data was downloaded, transformed into a csv file, and uploaded into the data folder for this project."
   ]
  },
  {
   "cell_type": "markdown",
   "id": "5e055329-1981-4001-80be-326256efd8e0",
   "metadata": {},
   "source": [
    "## Preliminary Exploratory Data Analysis:\n",
    "\n",
    "### Reading in file from the web into R\n",
    "\n",
    "First, one should obtain the xlsl file from https://archive.ics.uci.edu/ml/datasets/User+Knowledge+Modeling, in the Data Folder. In this excel file, there are multiple sheets. Therefore, to make it easier to read, one should convert each sheet to a different csv file with https://cloudconvert.com/xlsx-to-csv. For this project, the training and testing sheets in the excel file were converted into data/training_data_user_knowledge.csv and data/training_data_user_knowledge.csv respectively. \n",
    "\n",
    "Next, the data can be read into a tibble with read_csv. As there are no meta text, no extra parameters need to be added. For instance, to read in the training data:"
   ]
  },
  {
   "cell_type": "code",
   "execution_count": 29,
   "id": "f0f14f0e-8b96-477b-a7f8-4bf9457e67e4",
   "metadata": {},
   "outputs": [
    {
     "name": "stderr",
     "output_type": "stream",
     "text": [
      "\u001b[1mRows: \u001b[22m\u001b[34m258\u001b[39m \u001b[1mColumns: \u001b[22m\u001b[34m6\u001b[39m\n",
      "\u001b[36m──\u001b[39m \u001b[1mColumn specification\u001b[22m \u001b[36m────────────────────────────────────────────────────────\u001b[39m\n",
      "\u001b[1mDelimiter:\u001b[22m \",\"\n",
      "\u001b[31mchr\u001b[39m (1): UNS\n",
      "\u001b[32mdbl\u001b[39m (5): STG, SCG, STR, LPR, PEG\n",
      "\n",
      "\u001b[36mℹ\u001b[39m Use `spec()` to retrieve the full column specification for this data.\n",
      "\u001b[36mℹ\u001b[39m Specify the column types or set `show_col_types = FALSE` to quiet this message.\n"
     ]
    }
   ],
   "source": [
    "#reading the training data into testing_data object:\n",
    "training_data <- read_csv(\"data/training_data_user_knowledge.csv\")"
   ]
  },
  {
   "cell_type": "markdown",
   "id": "9ea46182-cd02-4894-8590-eef526a77c8b",
   "metadata": {},
   "source": [
    "## Cleaning and wrangling into tidy format\n",
    "\n",
    "Here is what the first 5 rows of our data look like:"
   ]
  },
  {
   "cell_type": "code",
   "execution_count": 30,
   "id": "940873e5-b45c-4f05-9df1-fdeffe7c0e95",
   "metadata": {},
   "outputs": [
    {
     "data": {
      "text/html": [
       "<table class=\"dataframe\">\n",
       "<caption>A spec_tbl_df: 5 × 6</caption>\n",
       "<thead>\n",
       "\t<tr><th scope=col>STG</th><th scope=col>SCG</th><th scope=col>STR</th><th scope=col>LPR</th><th scope=col>PEG</th><th scope=col>UNS</th></tr>\n",
       "\t<tr><th scope=col>&lt;dbl&gt;</th><th scope=col>&lt;dbl&gt;</th><th scope=col>&lt;dbl&gt;</th><th scope=col>&lt;dbl&gt;</th><th scope=col>&lt;dbl&gt;</th><th scope=col>&lt;chr&gt;</th></tr>\n",
       "</thead>\n",
       "<tbody>\n",
       "\t<tr><td>0.00</td><td>0.00</td><td>0.00</td><td>0.00</td><td>0.00</td><td>very_low</td></tr>\n",
       "\t<tr><td>0.08</td><td>0.08</td><td>0.10</td><td>0.24</td><td>0.90</td><td>High    </td></tr>\n",
       "\t<tr><td>0.06</td><td>0.06</td><td>0.05</td><td>0.25</td><td>0.33</td><td>Low     </td></tr>\n",
       "\t<tr><td>0.10</td><td>0.10</td><td>0.15</td><td>0.65</td><td>0.30</td><td>Middle  </td></tr>\n",
       "\t<tr><td>0.08</td><td>0.08</td><td>0.08</td><td>0.98</td><td>0.24</td><td>Low     </td></tr>\n",
       "</tbody>\n",
       "</table>\n"
      ],
      "text/latex": [
       "A spec\\_tbl\\_df: 5 × 6\n",
       "\\begin{tabular}{llllll}\n",
       " STG & SCG & STR & LPR & PEG & UNS\\\\\n",
       " <dbl> & <dbl> & <dbl> & <dbl> & <dbl> & <chr>\\\\\n",
       "\\hline\n",
       "\t 0.00 & 0.00 & 0.00 & 0.00 & 0.00 & very\\_low\\\\\n",
       "\t 0.08 & 0.08 & 0.10 & 0.24 & 0.90 & High    \\\\\n",
       "\t 0.06 & 0.06 & 0.05 & 0.25 & 0.33 & Low     \\\\\n",
       "\t 0.10 & 0.10 & 0.15 & 0.65 & 0.30 & Middle  \\\\\n",
       "\t 0.08 & 0.08 & 0.08 & 0.98 & 0.24 & Low     \\\\\n",
       "\\end{tabular}\n"
      ],
      "text/markdown": [
       "\n",
       "A spec_tbl_df: 5 × 6\n",
       "\n",
       "| STG &lt;dbl&gt; | SCG &lt;dbl&gt; | STR &lt;dbl&gt; | LPR &lt;dbl&gt; | PEG &lt;dbl&gt; | UNS &lt;chr&gt; |\n",
       "|---|---|---|---|---|---|\n",
       "| 0.00 | 0.00 | 0.00 | 0.00 | 0.00 | very_low |\n",
       "| 0.08 | 0.08 | 0.10 | 0.24 | 0.90 | High     |\n",
       "| 0.06 | 0.06 | 0.05 | 0.25 | 0.33 | Low      |\n",
       "| 0.10 | 0.10 | 0.15 | 0.65 | 0.30 | Middle   |\n",
       "| 0.08 | 0.08 | 0.08 | 0.98 | 0.24 | Low      |\n",
       "\n"
      ],
      "text/plain": [
       "  STG  SCG  STR  LPR  PEG  UNS     \n",
       "1 0.00 0.00 0.00 0.00 0.00 very_low\n",
       "2 0.08 0.08 0.10 0.24 0.90 High    \n",
       "3 0.06 0.06 0.05 0.25 0.33 Low     \n",
       "4 0.10 0.10 0.15 0.65 0.30 Middle  \n",
       "5 0.08 0.08 0.08 0.98 0.24 Low     "
      ]
     },
     "metadata": {},
     "output_type": "display_data"
    }
   ],
   "source": [
    "slice(training_data, 1:5)"
   ]
  },
  {
   "cell_type": "markdown",
   "id": "1534f216-9c76-43af-8259-4f5c3ca66006",
   "metadata": {},
   "source": [
    "From the source website, here is what the column labels mean: \n",
    "\n",
    "For each student,\n",
    "STG: The degree of study time for subject\n",
    "SCG: The degree of repetition for subject materials\n",
    "STR: The degree of study time for related subjects\n",
    "LPR: The exam performance for related subjects\n",
    "PEG: The exam performance for subject\n",
    "UNS: The knowledge level\n",
    "\n",
    "Lets rename the columns to have better understanding:"
   ]
  },
  {
   "cell_type": "code",
   "execution_count": 31,
   "id": "bbc9afea-ba10-411d-b231-45dd4006223b",
   "metadata": {},
   "outputs": [
    {
     "data": {
      "text/html": [
       "<table class=\"dataframe\">\n",
       "<caption>A spec_tbl_df: 5 × 6</caption>\n",
       "<thead>\n",
       "\t<tr><th scope=col>direct_study_time</th><th scope=col>direct_repetition_degree</th><th scope=col>related_study_time</th><th scope=col>related_exam_performance</th><th scope=col>direct_exam_performance</th><th scope=col>direct_knowledge_level</th></tr>\n",
       "\t<tr><th scope=col>&lt;dbl&gt;</th><th scope=col>&lt;dbl&gt;</th><th scope=col>&lt;dbl&gt;</th><th scope=col>&lt;dbl&gt;</th><th scope=col>&lt;dbl&gt;</th><th scope=col>&lt;chr&gt;</th></tr>\n",
       "</thead>\n",
       "<tbody>\n",
       "\t<tr><td>0.00</td><td>0.00</td><td>0.00</td><td>0.00</td><td>0.00</td><td>very_low</td></tr>\n",
       "\t<tr><td>0.08</td><td>0.08</td><td>0.10</td><td>0.24</td><td>0.90</td><td>High    </td></tr>\n",
       "\t<tr><td>0.06</td><td>0.06</td><td>0.05</td><td>0.25</td><td>0.33</td><td>Low     </td></tr>\n",
       "\t<tr><td>0.10</td><td>0.10</td><td>0.15</td><td>0.65</td><td>0.30</td><td>Middle  </td></tr>\n",
       "\t<tr><td>0.08</td><td>0.08</td><td>0.08</td><td>0.98</td><td>0.24</td><td>Low     </td></tr>\n",
       "</tbody>\n",
       "</table>\n"
      ],
      "text/latex": [
       "A spec\\_tbl\\_df: 5 × 6\n",
       "\\begin{tabular}{llllll}\n",
       " direct\\_study\\_time & direct\\_repetition\\_degree & related\\_study\\_time & related\\_exam\\_performance & direct\\_exam\\_performance & direct\\_knowledge\\_level\\\\\n",
       " <dbl> & <dbl> & <dbl> & <dbl> & <dbl> & <chr>\\\\\n",
       "\\hline\n",
       "\t 0.00 & 0.00 & 0.00 & 0.00 & 0.00 & very\\_low\\\\\n",
       "\t 0.08 & 0.08 & 0.10 & 0.24 & 0.90 & High    \\\\\n",
       "\t 0.06 & 0.06 & 0.05 & 0.25 & 0.33 & Low     \\\\\n",
       "\t 0.10 & 0.10 & 0.15 & 0.65 & 0.30 & Middle  \\\\\n",
       "\t 0.08 & 0.08 & 0.08 & 0.98 & 0.24 & Low     \\\\\n",
       "\\end{tabular}\n"
      ],
      "text/markdown": [
       "\n",
       "A spec_tbl_df: 5 × 6\n",
       "\n",
       "| direct_study_time &lt;dbl&gt; | direct_repetition_degree &lt;dbl&gt; | related_study_time &lt;dbl&gt; | related_exam_performance &lt;dbl&gt; | direct_exam_performance &lt;dbl&gt; | direct_knowledge_level &lt;chr&gt; |\n",
       "|---|---|---|---|---|---|\n",
       "| 0.00 | 0.00 | 0.00 | 0.00 | 0.00 | very_low |\n",
       "| 0.08 | 0.08 | 0.10 | 0.24 | 0.90 | High     |\n",
       "| 0.06 | 0.06 | 0.05 | 0.25 | 0.33 | Low      |\n",
       "| 0.10 | 0.10 | 0.15 | 0.65 | 0.30 | Middle   |\n",
       "| 0.08 | 0.08 | 0.08 | 0.98 | 0.24 | Low      |\n",
       "\n"
      ],
      "text/plain": [
       "  direct_study_time direct_repetition_degree related_study_time\n",
       "1 0.00              0.00                     0.00              \n",
       "2 0.08              0.08                     0.10              \n",
       "3 0.06              0.06                     0.05              \n",
       "4 0.10              0.10                     0.15              \n",
       "5 0.08              0.08                     0.08              \n",
       "  related_exam_performance direct_exam_performance direct_knowledge_level\n",
       "1 0.00                     0.00                    very_low              \n",
       "2 0.24                     0.90                    High                  \n",
       "3 0.25                     0.33                    Low                   \n",
       "4 0.65                     0.30                    Middle                \n",
       "5 0.98                     0.24                    Low                   "
      ]
     },
     "metadata": {},
     "output_type": "display_data"
    }
   ],
   "source": [
    "training_data <- rename(training_data, \n",
    "                        direct_study_time = STG,\n",
    "                        direct_repetition_degree = SCG,\n",
    "                        related_study_time = STR,\n",
    "                        related_exam_performance = LPR,\n",
    "                        direct_exam_performance = PEG,\n",
    "                        direct_knowledge_level = UNS)\n",
    "\n",
    "slice(training_data, 1:5)"
   ]
  },
  {
   "cell_type": "markdown",
   "id": "864fd1f9-d830-464c-8681-27553d201e90",
   "metadata": {},
   "source": [
    "As we can see from our new table above, each row is a single observation, each column is a single variable, and each value is a single cell. Therefore, our data is tidy. Furthermore, our columns are more understandable and clear."
   ]
  },
  {
   "cell_type": "markdown",
   "id": "cc0319dc-93f5-42dc-93d8-3bec4bf7d492",
   "metadata": {},
   "source": [
    "## Exploratory tables\n",
    "### Minimum and Maximum of each column\n",
    "\n",
    "For our numerical data, (labelled by <dbl>), we can find the range of values with the map + max and min functions:"
   ]
  },
  {
   "cell_type": "code",
   "execution_count": null,
   "id": "727277ed-6036-4e27-805f-a9be89379c4a",
   "metadata": {},
   "outputs": [],
   "source": [
    "max_and_min <- map(training_data,\n",
    "          min_most_at_home = min(most_at_home),\n",
    "          max_most_at_home = max(most_at_home))"
   ]
  },
  {
   "cell_type": "code",
   "execution_count": 32,
   "id": "98118d41-e46f-41c7-ade7-dd2f2cf66f7b",
   "metadata": {},
   "outputs": [
    {
     "ename": "ERROR",
     "evalue": "\u001b[1m\u001b[33mError\u001b[39m in \u001b[1m\u001b[1m`select()`:\u001b[22m\n\u001b[33m!\u001b[39m Can't subset columns that don't exist.\n\u001b[31m✖\u001b[39m Column `STG` doesn't exist.\n",
     "output_type": "error",
     "traceback": [
      "\u001b[1m\u001b[33mError\u001b[39m in \u001b[1m\u001b[1m`select()`:\u001b[22m\n\u001b[33m!\u001b[39m Can't subset columns that don't exist.\n\u001b[31m✖\u001b[39m Column `STG` doesn't exist.\nTraceback:\n",
      "1. select(training_data, STG, PEG, UNS)",
      "2. select.data.frame(training_data, STG, PEG, UNS)",
      "3. tidyselect_fix_call(tidyselect::eval_select(expr(c(...)), .data), \n .     call = error_call)",
      "4. withCallingHandlers(expr, error = function(cnd) {\n .     cnd$call <- call\n .     cnd$parent <- NULL\n .     cnd_signal(cnd)\n . })",
      "5. tidyselect::eval_select(expr(c(...)), .data)",
      "6. eval_select_impl(data, names(data), as_quosure(expr, env), include = include, \n .     exclude = exclude, strict = strict, name_spec = name_spec, \n .     allow_rename = allow_rename, error_call = error_call, )",
      "7. with_subscript_errors(vars_select_eval(vars, expr, strict = strict, \n .     data = x, name_spec = name_spec, uniquely_named = uniquely_named, \n .     allow_rename = allow_rename, type = type, error_call = error_call), \n .     type = type)",
      "8. tryCatch(with_entraced_errors(expr), vctrs_error_subscript = function(cnd) {\n .     cnd$subscript_action <- subscript_action(type)\n .     cnd$subscript_elt <- \"column\"\n .     cnd_signal(cnd)\n . })",
      "9. tryCatchList(expr, classes, parentenv, handlers)",
      "10. tryCatchOne(expr, names, parentenv, handlers[[1L]])",
      "11. value[[3L]](cond)",
      "12. cnd_signal(cnd)",
      "13. signal_abort(cnd)",
      "14. signalCondition(cnd)",
      "15. (function (cnd) \n  . {\n  .     cnd$call <- call\n  .     cnd$parent <- NULL\n  .     cnd_signal(cnd)\n  . })(structure(list(message = \"\", trace = structure(list(call = list(\n  .     IRkernel::main(), kernel$run(), handle_shell(), executor$execute(msg), \n  .     tryCatch(evaluate(request$content$code, envir = .GlobalEnv, \n  .         output_handler = oh, stop_on_error = 1L), interrupt = function(cond) {\n  .         log_debug(\"Interrupt during execution\")\n  .         interrupted <<- TRUE\n  .     }, error = .self$handle_error), tryCatchList(expr, classes, \n  .         parentenv, handlers), tryCatchOne(tryCatchList(expr, \n  .         names[-nh], parentenv, handlers[-nh]), names[nh], parentenv, \n  .         handlers[[nh]]), doTryCatch(return(expr), name, parentenv, \n  .         handler), tryCatchList(expr, names[-nh], parentenv, handlers[-nh]), \n  .     tryCatchOne(expr, names, parentenv, handlers[[1L]]), doTryCatch(return(expr), \n  .         name, parentenv, handler), evaluate(request$content$code, \n  .         envir = .GlobalEnv, output_handler = oh, stop_on_error = 1L), \n  .     evaluate_call(expr, parsed$src[[i]], envir = envir, enclos = enclos, \n  .         debug = debug, last = i == length(out), use_try = stop_on_error != \n  .             2L, keep_warning = keep_warning, keep_message = keep_message, \n  .         output_handler = output_handler, include_timing = include_timing), \n  .     timing_fn(handle(ev <- withCallingHandlers(withVisible(eval_with_user_handlers(expr, \n  .         envir, enclos, user_handlers)), warning = wHandler, error = eHandler, \n  .         message = mHandler))), handle(ev <- withCallingHandlers(withVisible(eval_with_user_handlers(expr, \n  .         envir, enclos, user_handlers)), warning = wHandler, error = eHandler, \n  .         message = mHandler)), try(f, silent = TRUE), tryCatch(expr, \n  .         error = function(e) {\n  .             call <- conditionCall(e)\n  .             if (!is.null(call)) {\n  .                 if (identical(call[[1L]], quote(doTryCatch))) \n  .                   call <- sys.call(-4L)\n  .                 dcall <- deparse(call, nlines = 1L)\n  .                 prefix <- paste(\"Error in\", dcall, \": \")\n  .                 LONG <- 75L\n  .                 sm <- strsplit(conditionMessage(e), \"\\n\")[[1L]]\n  .                 w <- 14L + nchar(dcall, type = \"w\") + nchar(sm[1L], \n  .                   type = \"w\")\n  .                 if (is.na(w)) \n  .                   w <- 14L + nchar(dcall, type = \"b\") + nchar(sm[1L], \n  .                     type = \"b\")\n  .                 if (w > LONG) \n  .                   prefix <- paste0(prefix, \"\\n  \")\n  .             }\n  .             else prefix <- \"Error : \"\n  .             msg <- paste0(prefix, conditionMessage(e), \"\\n\")\n  .             .Internal(seterrmessage(msg[1L]))\n  .             if (!silent && isTRUE(getOption(\"show.error.messages\"))) {\n  .                 cat(msg, file = outFile)\n  .                 .Internal(printDeferredWarnings())\n  .             }\n  .             invisible(structure(msg, class = \"try-error\", condition = e))\n  .         }), tryCatchList(expr, classes, parentenv, handlers), \n  .     tryCatchOne(expr, names, parentenv, handlers[[1L]]), doTryCatch(return(expr), \n  .         name, parentenv, handler), withCallingHandlers(withVisible(eval_with_user_handlers(expr, \n  .         envir, enclos, user_handlers)), warning = wHandler, error = eHandler, \n  .         message = mHandler), withVisible(eval_with_user_handlers(expr, \n  .         envir, enclos, user_handlers)), eval_with_user_handlers(expr, \n  .         envir, enclos, user_handlers), eval(expr, envir, enclos), \n  .     eval(expr, envir, enclos), select(training_data, STG, PEG, \n  .         UNS), select.data.frame(training_data, STG, PEG, UNS), \n  .     tidyselect_fix_call(tidyselect::eval_select(expr(c(...)), \n  .         .data), call = error_call), withCallingHandlers(expr, \n  .         error = function(cnd) {\n  .             cnd$call <- call\n  .             cnd$parent <- NULL\n  .             cnd_signal(cnd)\n  .         }), tidyselect::eval_select(expr(c(...)), .data), eval_select_impl(data, \n  .         names(data), as_quosure(expr, env), include = include, \n  .         exclude = exclude, strict = strict, name_spec = name_spec, \n  .         allow_rename = allow_rename, error_call = error_call, \n  .         ), with_subscript_errors(vars_select_eval(vars, expr, \n  .         strict = strict, data = x, name_spec = name_spec, uniquely_named = uniquely_named, \n  .         allow_rename = allow_rename, type = type, error_call = error_call), \n  .         type = type), tryCatch(with_entraced_errors(expr), vctrs_error_subscript = function(cnd) {\n  .         cnd$subscript_action <- subscript_action(type)\n  .         cnd$subscript_elt <- \"column\"\n  .         cnd_signal(cnd)\n  .     }), tryCatchList(expr, classes, parentenv, handlers), tryCatchOne(expr, \n  .         names, parentenv, handlers[[1L]]), doTryCatch(return(expr), \n  .         name, parentenv, handler), with_entraced_errors(expr), \n  .     try_fetch(expr, simpleError = function(cnd) {\n  .         abort(conditionMessage(cnd), call = conditionCall(cnd))\n  .     }), withCallingHandlers(expr, simpleError = function(cnd) {\n  .         {\n  .             .__handler_frame__. <- TRUE\n  .             .__setup_frame__. <- frame\n  .         }\n  .         out <- handlers[[1L]](cnd)\n  .         if (!inherits(out, \"rlang_zap\")) \n  .             throw(out)\n  .     }), vars_select_eval(vars, expr, strict = strict, data = x, \n  .         name_spec = name_spec, uniquely_named = uniquely_named, \n  .         allow_rename = allow_rename, type = type, error_call = error_call), \n  .     walk_data_tree(expr, data_mask, context_mask, error_call), \n  .     eval_c(expr, data_mask, context_mask), reduce_sels(node, \n  .         data_mask, context_mask, init = init), walk_data_tree(new, \n  .         data_mask, context_mask), as_indices_sel_impl(out, vars = vars, \n  .         strict = strict, data = data, call = error_call), as_indices_impl(x, \n  .         vars, call = call, strict = strict), chr_as_locations(x, \n  .         vars, call = call), vctrs::vec_as_location(x, n = length(vars), \n  .         names = vars), `<fn>`(), stop_subscript_oob(i = i, subscript_type = subscript_type, \n  .         names = names, subscript_action = subscript_action, subscript_arg = subscript_arg, \n  .         call = call), stop_subscript(class = \"vctrs_error_subscript_oob\", \n  .         i = i, subscript_type = subscript_type, ..., call = call), \n  .     abort(class = c(class, \"vctrs_error_subscript\"), i = i, ..., \n  .         call = vctrs_error_call(call))), parent = c(0L, 1L, 2L, \n  . 3L, 4L, 5L, 6L, 7L, 6L, 9L, 10L, 4L, 12L, 13L, 13L, 15L, 16L, \n  . 17L, 18L, 19L, 13L, 13L, 13L, 23L, 24L, 0L, 0L, 27L, 28L, 27L, \n  . 30L, 31L, 32L, 33L, 34L, 35L, 32L, 37L, 38L, 31L, 40L, 41L, 42L, \n  . 43L, 44L, 45L, 46L, 47L, 48L, 49L, 50L, 51L), visible = c(TRUE, \n  . TRUE, TRUE, TRUE, TRUE, TRUE, TRUE, TRUE, TRUE, TRUE, TRUE, TRUE, \n  . TRUE, TRUE, TRUE, TRUE, TRUE, TRUE, TRUE, TRUE, TRUE, TRUE, TRUE, \n  . TRUE, TRUE, TRUE, TRUE, TRUE, TRUE, TRUE, TRUE, TRUE, TRUE, TRUE, \n  . TRUE, TRUE, TRUE, TRUE, TRUE, TRUE, TRUE, TRUE, TRUE, TRUE, TRUE, \n  . TRUE, TRUE, FALSE, FALSE, FALSE, FALSE, FALSE), namespace = c(\"IRkernel\", \n  . NA, \"IRkernel\", NA, \"base\", \"base\", \"base\", \"base\", \"base\", \"base\", \n  . \"base\", \"evaluate\", \"evaluate\", \"evaluate\", \"evaluate\", \"base\", \n  . \"base\", \"base\", \"base\", \"base\", \"base\", \"base\", \"evaluate\", \"base\", \n  . \"base\", \"dplyr\", \"dplyr\", \"dplyr\", \"base\", \"tidyselect\", \"tidyselect\", \n  . \"tidyselect\", \"base\", \"base\", \"base\", \"base\", \"tidyselect\", \"rlang\", \n  . \"base\", \"tidyselect\", \"tidyselect\", \"tidyselect\", \"tidyselect\", \n  . \"tidyselect\", \"tidyselect\", \"tidyselect\", \"tidyselect\", \"vctrs\", \n  . \"vctrs\", \"vctrs\", \"vctrs\", \"rlang\"), scope = c(\"::\", NA, \"local\", \n  . NA, \"::\", \"local\", \"local\", \"local\", \"local\", \"local\", \"local\", \n  . \"::\", \":::\", \"local\", \"local\", \"::\", \"::\", \"local\", \"local\", \n  . \"local\", \"::\", \"::\", \":::\", \"::\", \"::\", \"::\", \":::\", \":::\", \"::\", \n  . \"::\", \":::\", \":::\", \"::\", \"local\", \"local\", \"local\", \":::\", \"::\", \n  . \"::\", \":::\", \":::\", \":::\", \":::\", \":::\", \":::\", \":::\", \":::\", \n  . \"::\", \"local\", \":::\", \":::\", \"::\"), error_frame = c(FALSE, FALSE, \n  . FALSE, FALSE, FALSE, FALSE, FALSE, FALSE, FALSE, FALSE, FALSE, \n  . FALSE, FALSE, FALSE, FALSE, FALSE, FALSE, FALSE, FALSE, FALSE, \n  . FALSE, FALSE, FALSE, FALSE, FALSE, FALSE, FALSE, FALSE, FALSE, \n  . FALSE, FALSE, FALSE, FALSE, FALSE, FALSE, FALSE, FALSE, FALSE, \n  . FALSE, FALSE, FALSE, FALSE, FALSE, FALSE, FALSE, FALSE, TRUE, \n  . FALSE, FALSE, FALSE, FALSE, FALSE)), row.names = c(NA, -52L), version = 2L, class = c(\"rlang_trace\", \n  . \"rlib_trace\", \"tbl\", \"data.frame\")), parent = NULL, i = \"STG\", \n  .     subscript_type = \"character\", names = c(\"direct_study_time\", \n  .     \"direct_repetition_degree\", \"related_study_time\", \"related_exam_performance\", \n  .     \"direct_exam_performance\", \"direct_knowledge_level\"), subscript_action = \"subset\", \n  .     subscript_arg = \"x\", call = chr_as_locations(x, vars, call = call), \n  .     subscript_elt = \"column\"), class = c(\"vctrs_error_subscript_oob\", \n  . \"vctrs_error_subscript\", \"rlang_error\", \"error\", \"condition\")))",
      "16. cnd_signal(cnd)",
      "17. signal_abort(cnd)"
     ]
    }
   ],
   "source": [
    "\n",
    "\n",
    "#showing relation between study time and exam results on subject\n",
    "ggplot(training_data, aes(x = STG, y = PEG)) +\n",
    "geom_point() "
   ]
  },
  {
   "cell_type": "markdown",
   "id": "f0b9b697-af76-480d-8432-6b8287da78be",
   "metadata": {},
   "source": [
    "For our data analysis, we will use the closest k points method with the columns PEG and STG to classify knowledge levels. We will try to find the best value for k, and see how accurate our model is when tested. One way we will visualize the result is by showing a graph of accuracy against k. This will show clearly the best value for k.\n",
    "\n",
    "We expect to find higher levels of study time and exam results to higher levels of knowledge. We also do not expect the classification to be very accurate, because the measurement method seems unreliable.\n",
    "\n",
    "Our finding may show that common beliefs about how study time reflects knowledge may not be statistically correct. Furthermore, it may even show that exams do not test knowledge well. Or, it may confirm these beliefs.\n",
    "\n",
    "A future question could be to ask: what other variables may affect user knoweldge?"
   ]
  },
  {
   "cell_type": "markdown",
   "id": "a056caec-307a-4737-a80c-1eca5fa24a1e",
   "metadata": {},
   "source": [
    "notes (ignore):\n",
    "STG (The degree of study time for goal object materails), (input value)\n",
    "SCG (The degree of repetition number of user for goal object materails) (input value)\n",
    "STR (The degree of study time of user for related objects with goal object) (input value)\n",
    "LPR (The exam performance of user for related objects with goal object) (input value)\n",
    "PEG (The exam performance of user for goal objects) (input value)\n",
    "UNS (The knowledge level of user) (target value)\n",
    "Very Low: 50\n",
    "Low:129\n",
    "Middle: 122\n",
    "High 130"
   ]
  }
 ],
 "metadata": {
  "kernelspec": {
   "display_name": "R",
   "language": "R",
   "name": "ir"
  },
  "language_info": {
   "codemirror_mode": "r",
   "file_extension": ".r",
   "mimetype": "text/x-r-source",
   "name": "R",
   "pygments_lexer": "r",
   "version": "4.1.3"
  }
 },
 "nbformat": 4,
 "nbformat_minor": 5
}
